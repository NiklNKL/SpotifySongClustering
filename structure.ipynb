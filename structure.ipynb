{
 "cells": [
  {
   "cell_type": "markdown",
   "metadata": {},
   "source": [
    "- Es gibt viele Musikdaten\n",
    "- Wir haben Musikdaten zusammengeführt und vorbereitet\n",
    "- Wir haben Musikdaten analysiert\n",
    "- Dann haben wir versucht HDBScan anzuwenden -> Wenig details\n",
    "- Dann haben wir KMEANS angewendet --> Gleichmäßig aber nicht intelligent\n",
    "- Wir haben andere unterschiedliche Clusteralgorithmen ausprobiert --> Oft zu langsam oder gleiches / schlechteres Ergebnis\n",
    "- Wir haben unterschiedliche Features miteinander kombiniert oder rausgeworfen --> Haben uns auf eine handvoll festgelegt\n",
    "- Wir haben Recommendations auf Clusterbasis gemacht --> Zeigen wie das mit KMEANS und HDBSCAN functioniert\n",
    "- Wir haben Spotify API eingebaut\n",
    "- Wir haben Kmeans und HDBSCAN kombiniert\n",
    "- Wir haben KNN hinzugefügt\n",
    "- Wir haben Gewichtungssystem hinzugefügt\n",
    "- Jetzt kriegt man tolle Vorschläge"
   ]
  },
  {
   "cell_type": "markdown",
   "metadata": {},
   "source": [
    "1. Was ist unser Ziel\n",
    "2. Wo kommen die Daten her\n",
    "   (Kaggle Datensätze vorstellen und Datenvorbereitung zeigen)\n",
    "\n",
    "3. Datenanalyse\n",
    "4. Erste Clustering Ergebnisse vorstellen\n",
    "   HDBSCAN, KMEANs, Darauf eingehen warum welcher Algorithmus Sinn ergibt und wo Probleme liegen\n",
    "   Hier auch zeigen ob sich was durch PCA oder Weniger Features tut\n",
    "5. HDBSCAN mit KMEANS verbunden --> Analyse\n",
    "6. Recommendations mit Clustern Zeigen und wie man die bekommt\n",
    "7. Wir haben KNN, Spotify API und Weights hinzugefügt: Recommendation Engine vorstellen"
   ]
  },
  {
   "cell_type": "markdown",
   "metadata": {},
   "source": []
  }
 ],
 "metadata": {
  "language_info": {
   "name": "python"
  }
 },
 "nbformat": 4,
 "nbformat_minor": 2
}
