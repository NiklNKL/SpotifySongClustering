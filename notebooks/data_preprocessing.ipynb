{
 "cells": [
  {
   "cell_type": "markdown",
   "metadata": {},
   "source": [
    "# Data Preprocessing Notebook\n",
    "\n",
    "This notebook shows the preprocessing steps taken to create a 2 Mio Spotify songs dataset\n",
    "\n",
    "#### Datasets\n",
    "\n",
    "All Datasets can be found in the data folder\n",
    "\n",
    "- https://www.kaggle.com/datasets/amitanshjoshi/spotify-1million-tracks (original_spotify_data/1mio_dataset)\n",
    "- https://www.kaggle.com/datasets/tonygordonjr/spotify-dataset-2023?select=spotify-albums_data_2023.csv (original_spotify_data/2023_dataset)\n",
    "- https://www.kaggle.com/datasets/yamaerenay/spotify-dataset-19212020-600k-tracks?select=tracks.csv (original_spotify_data/600k_dataset)"
   ]
  },
  {
   "cell_type": "markdown",
   "metadata": {},
   "source": [
    "# Loading all Datasets"
   ]
  },
  {
   "cell_type": "markdown",
   "metadata": {},
   "source": [
    "## 1 Million Songs Dataset\n",
    "https://www.kaggle.com/datasets/amitanshjoshi/spotify-1million-tracks"
   ]
  },
  {
   "cell_type": "code",
   "execution_count": null,
   "metadata": {},
   "outputs": [],
   "source": [
    "from custom_utils import load_and_concatenate_parquet_files\n",
    "one_mio_dataset = load_and_concatenate_parquet_files(\"data/original_spotify_data/1mio_dataset\")\n",
    "print(one_mio_dataset.shape)\n",
    "display(one_mio_dataset.head())\n",
    "print(one_mio_dataset.isna().sum())\n",
    "print(one_mio_dataset.info())"
   ]
  },
  {
   "cell_type": "code",
   "execution_count": 2,
   "metadata": {},
   "outputs": [],
   "source": [
    "one_mio_dataset = one_mio_dataset.drop(columns=[\"Unnamed: 0\"])"
   ]
  },
  {
   "cell_type": "code",
   "execution_count": null,
   "metadata": {},
   "outputs": [],
   "source": [
    "one_mio_dataset = one_mio_dataset.dropna()\n",
    "print(one_mio_dataset.isna().sum())\n",
    "print(one_mio_dataset.shape)"
   ]
  },
  {
   "cell_type": "markdown",
   "metadata": {},
   "source": [
    "## 600k Tracks Dataset\n",
    "https://www.kaggle.com/datasets/yamaerenay/spotify-dataset-19212020-600k-tracks?select=tracks.csv"
   ]
  },
  {
   "cell_type": "code",
   "execution_count": null,
   "metadata": {},
   "outputs": [],
   "source": [
    "from custom_utils import load_and_concatenate_parquet_files\n",
    "half_mio_dataset = load_and_concatenate_parquet_files(\"data/original_spotify_data/600k_dataset\")\n",
    "print(half_mio_dataset.shape)\n",
    "display(half_mio_dataset.head())\n",
    "print(half_mio_dataset.isna().sum())\n",
    "print(half_mio_dataset.info())"
   ]
  },
  {
   "cell_type": "code",
   "execution_count": null,
   "metadata": {},
   "outputs": [],
   "source": [
    "half_mio_dataset = half_mio_dataset.dropna()\n",
    "print(half_mio_dataset.isna().sum())\n",
    "print(half_mio_dataset.shape)"
   ]
  },
  {
   "cell_type": "code",
   "execution_count": null,
   "metadata": {},
   "outputs": [],
   "source": [
    "display(one_mio_dataset.head(1))\n",
    "display(half_mio_dataset.head(1))"
   ]
  },
  {
   "cell_type": "code",
   "execution_count": null,
   "metadata": {},
   "outputs": [],
   "source": [
    "half_mio_dataset = half_mio_dataset.rename(columns={\"id\": \"track_id\", \"name\": \"track_name\"})\n",
    "display(half_mio_dataset.head(1))"
   ]
  },
  {
   "cell_type": "code",
   "execution_count": null,
   "metadata": {},
   "outputs": [],
   "source": [
    "half_mio_dataset = half_mio_dataset.drop(columns=[\"explicit\", \"id_artists\"])\n",
    "display(half_mio_dataset.head(1))"
   ]
  },
  {
   "cell_type": "code",
   "execution_count": null,
   "metadata": {},
   "outputs": [],
   "source": [
    "import numpy as np\n",
    "import re\n",
    "def extract_year(date_str):\n",
    "    date_str = str(date_str).strip()\n",
    "    match = re.match(r'^(\\d{4})', date_str)\n",
    "    if match:\n",
    "        return int(match.group(1))\n",
    "    return np.nan\n",
    "    \n",
    "half_mio_dataset['year'] = half_mio_dataset['release_date'].apply(extract_year)\n",
    "display(half_mio_dataset[[\"year\", \"release_date\"]].head(5))\n",
    "half_mio_dataset = half_mio_dataset.drop(columns=[\"release_date\"])"
   ]
  },
  {
   "cell_type": "code",
   "execution_count": null,
   "metadata": {},
   "outputs": [],
   "source": [
    "import pandas as pd\n",
    "import numpy as np\n",
    "import re\n",
    "def extract_first_artist(artists_str):\n",
    "\n",
    "    clean_str = re.sub(r'[\\[\\]\\']', '', artists_str).strip()\n",
    "    artists_list = [name.strip() for name in clean_str.split(',')]\n",
    "    return artists_list[0] if artists_list else np.nan\n",
    "\n",
    "half_mio_dataset['artist_name'] = half_mio_dataset['artists'].apply(extract_first_artist)\n",
    "display(half_mio_dataset[[\"artist_name\", \"artists\"]].head(5))\n",
    "half_mio_dataset = half_mio_dataset.drop(columns=[\"artists\"])"
   ]
  },
  {
   "cell_type": "code",
   "execution_count": 11,
   "metadata": {},
   "outputs": [],
   "source": [
    "half_mio_dataset[\"genre\"] = None\n",
    "half_mio_dataset = half_mio_dataset[one_mio_dataset.columns]"
   ]
  },
  {
   "cell_type": "code",
   "execution_count": null,
   "metadata": {},
   "outputs": [],
   "source": [
    "display(half_mio_dataset.head(1))\n",
    "display(one_mio_dataset.head(1))"
   ]
  },
  {
   "cell_type": "markdown",
   "metadata": {},
   "source": [
    "## 2023 Dataset\n",
    "https://www.kaggle.com/datasets/tonygordonjr/spotify-dataset-2023?select=spotify-albums_data_2023.csv"
   ]
  },
  {
   "cell_type": "code",
   "execution_count": null,
   "metadata": {},
   "outputs": [],
   "source": [
    "from custom_utils import load_and_concatenate_parquet_files\n",
    "newest_dataset = load_and_concatenate_parquet_files(\"data/original_spotify_data/2023_dataset\")\n",
    "print(newest_dataset.shape)\n",
    "display(newest_dataset.head())\n",
    "print(newest_dataset.isna().sum())\n",
    "print(newest_dataset.info())"
   ]
  },
  {
   "cell_type": "code",
   "execution_count": null,
   "metadata": {},
   "outputs": [],
   "source": [
    "newest_dataset = newest_dataset[[\"artist_0\", \"track_name\", \"track_id\", \"release_year\", \"track_popularity\", \"danceability\", \"energy\", \"key\", \"loudness\", \"mode\", \"speechiness\", \"acousticness\", \"instrumentalness\", \"liveness\", \"valence\", \"tempo\", \"duration_ms\", \"time_signature\", \"genre_0\"]]\n",
    "display(newest_dataset.head(1))"
   ]
  },
  {
   "cell_type": "code",
   "execution_count": null,
   "metadata": {},
   "outputs": [],
   "source": [
    "newest_dataset = newest_dataset.rename(columns={\"artist_0\": \"artist_name\", \"release_year\": \"year\", \"genre_0\": \"genre\", \"track_popularity\": \"popularity\"})\n",
    "display(newest_dataset.head(1))"
   ]
  },
  {
   "cell_type": "code",
   "execution_count": null,
   "metadata": {},
   "outputs": [],
   "source": [
    "print(newest_dataset[\"genre\"].value_counts())"
   ]
  },
  {
   "cell_type": "code",
   "execution_count": 17,
   "metadata": {},
   "outputs": [],
   "source": [
    "newest_dataset = newest_dataset.drop(columns=[\"genre\"])"
   ]
  },
  {
   "cell_type": "code",
   "execution_count": null,
   "metadata": {},
   "outputs": [],
   "source": [
    "print(newest_dataset.isna().sum())\n",
    "newest_dataset = newest_dataset.dropna()"
   ]
  },
  {
   "cell_type": "code",
   "execution_count": 19,
   "metadata": {},
   "outputs": [],
   "source": [
    "newest_dataset[\"genre\"] = None\n",
    "newest_dataset[\"year\"] = newest_dataset[\"year\"].astype(int)\n",
    "newest_dataset[\"time_signature\"] = newest_dataset[\"time_signature\"].astype(int)\n",
    "newest_dataset[\"duration_ms\"] = newest_dataset[\"duration_ms\"].astype(int)\n",
    "newest_dataset[\"key\"] = newest_dataset[\"key\"].astype(int)\n",
    "newest_dataset[\"mode\"] = newest_dataset[\"mode\"].astype(int)\n",
    "newest_dataset[\"popularity\"] = newest_dataset[\"popularity\"].astype(int)"
   ]
  },
  {
   "cell_type": "code",
   "execution_count": null,
   "metadata": {},
   "outputs": [],
   "source": [
    "newest_dataset = newest_dataset[one_mio_dataset.columns]\n",
    "display(newest_dataset.head(1))\n",
    "display(one_mio_dataset.head(1))\n",
    "display(half_mio_dataset.head(1))"
   ]
  },
  {
   "cell_type": "markdown",
   "metadata": {},
   "source": [
    "## Combining all datasets"
   ]
  },
  {
   "cell_type": "code",
   "execution_count": null,
   "metadata": {},
   "outputs": [],
   "source": [
    "combined_dataset = pd.concat([one_mio_dataset, half_mio_dataset, newest_dataset], ignore_index=True)\n",
    "combined_dataset = combined_dataset.reset_index(drop=True)\n",
    "display(combined_dataset.head(5))\n",
    "print(combined_dataset.shape)\n",
    "print(combined_dataset.isna().sum())\n",
    "print(combined_dataset.info())"
   ]
  },
  {
   "cell_type": "markdown",
   "metadata": {},
   "source": [
    "### Removing duplicate songs"
   ]
  },
  {
   "cell_type": "code",
   "execution_count": null,
   "metadata": {},
   "outputs": [],
   "source": [
    "print(combined_dataset.shape)\n",
    "combined_dataset = combined_dataset.drop_duplicates(subset=[\"track_name\", \"artist_name\", \"danceability\", \"energy\", \"key\", \"valence\", \"tempo\", \"time_signature\"])\n",
    "combined_dataset = combined_dataset.drop_duplicates(subset=[\"track_id\"])\n",
    "combined_dataset = combined_dataset.drop_duplicates(subset=[\"track_name\", \"artist_name\"])\n",
    "print(combined_dataset.shape)"
   ]
  },
  {
   "cell_type": "code",
   "execution_count": 23,
   "metadata": {},
   "outputs": [],
   "source": [
    "from custom_utils import save_dataframe_as_parquet\n",
    "# save_dataframe_as_parquet(combined_dataset, folder_path=\"data\", folder_name=\"preprocessed_spotify_data\", always_overwrite=True)"
   ]
  }
 ],
 "metadata": {
  "kernelspec": {
   "display_name": "venv",
   "language": "python",
   "name": "python3"
  },
  "language_info": {
   "codemirror_mode": {
    "name": "ipython",
    "version": 3
   },
   "file_extension": ".py",
   "mimetype": "text/x-python",
   "name": "python",
   "nbconvert_exporter": "python",
   "pygments_lexer": "ipython3",
   "version": "3.10.12"
  }
 },
 "nbformat": 4,
 "nbformat_minor": 2
}
