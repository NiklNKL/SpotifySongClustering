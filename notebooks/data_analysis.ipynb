{
 "cells": [
  {
   "cell_type": "markdown",
   "metadata": {},
   "source": [
    "# Notebook for Spotify Data Analysis"
   ]
  },
  {
   "cell_type": "markdown",
   "metadata": {},
   "source": [
    "# Load and View Dataset"
   ]
  },
  {
   "cell_type": "code",
   "execution_count": null,
   "metadata": {},
   "outputs": [],
   "source": [
    "from custom_utils import load_and_concatenate_parquet_files\n",
    "original_data = load_and_concatenate_parquet_files('data/preprocessed_spotify_data')\n",
    "display(original_data.head())\n",
    "display(original_data.describe())"
   ]
  },
  {
   "cell_type": "markdown",
   "metadata": {},
   "source": [
    "# Data Analysis"
   ]
  },
  {
   "cell_type": "markdown",
   "metadata": {},
   "source": [
    "# Artists"
   ]
  },
  {
   "cell_type": "markdown",
   "metadata": {},
   "source": [
    "### General Facts"
   ]
  },
  {
   "cell_type": "code",
   "execution_count": null,
   "metadata": {},
   "outputs": [],
   "source": [
    "print(f\"Total Number of Artists: {original_data['artist_name'].nunique()}\")\n",
    "print(original_data['artist_name'].value_counts().reset_index().head(10))\n",
    "print(f\"\\nMean songs per artist: {original_data['artist_name'].value_counts().mean()}\")\n",
    "print(f\"Median songs per artist: {original_data['artist_name'].value_counts().median()}\")"
   ]
  },
  {
   "cell_type": "markdown",
   "metadata": {},
   "source": [
    "#### Artists / Popularity"
   ]
  },
  {
   "cell_type": "code",
   "execution_count": null,
   "metadata": {},
   "outputs": [],
   "source": [
    "import matplotlib.pyplot as plt\n",
    "\n",
    "data_copy = original_data.copy()\n",
    "\n",
    "artist_mean = data_copy.groupby('artist_name')['popularity'].mean().reset_index()\n",
    "artist_median = data_copy.groupby('artist_name')['popularity'].median().reset_index()\n",
    "\n",
    "artist_mean.rename(columns={'popularity': 'artist_mean_popularity'}, inplace=True)\n",
    "artist_median.rename(columns={'popularity': 'artist_median_popularity'}, inplace=True)\n",
    "\n",
    "data_copy = data_copy.merge(artist_mean, on='artist_name', how='left')\n",
    "data_copy = data_copy.merge(artist_median, on='artist_name', how='left')\n",
    "\n",
    "top_10_artists_mean = artist_mean.nlargest(10, 'artist_mean_popularity')\n",
    "plt.figure(figsize=(12, 6))\n",
    "plt.subplot(1, 2, 1)\n",
    "plt.bar(top_10_artists_mean['artist_name'], top_10_artists_mean['artist_mean_popularity'])\n",
    "plt.xlabel('Artists')\n",
    "plt.ylabel('Mean Popularity')\n",
    "plt.title('Top 10 Artists by Mean Popularity')\n",
    "plt.xticks(rotation=45)\n",
    "\n",
    "top_10_artists_median = artist_median.nlargest(10, 'artist_median_popularity')\n",
    "plt.subplot(1, 2, 2)\n",
    "plt.bar(top_10_artists_median['artist_name'], top_10_artists_median['artist_median_popularity'])\n",
    "plt.xlabel('Artists')\n",
    "plt.ylabel('Median Popularity')\n",
    "plt.title('Top 10 Artists by Median Popularity')\n",
    "plt.xticks(rotation=45)\n",
    "\n",
    "plt.tight_layout()\n",
    "plt.show()"
   ]
  },
  {
   "cell_type": "markdown",
   "metadata": {},
   "source": [
    "## Genres"
   ]
  },
  {
   "cell_type": "markdown",
   "metadata": {},
   "source": [
    "### General Facts"
   ]
  },
  {
   "cell_type": "code",
   "execution_count": null,
   "metadata": {},
   "outputs": [],
   "source": [
    "print(f\"Total Number of Genres: {original_data['genre'].nunique()}\")\n",
    "print(original_data['genre'].value_counts().reset_index().head(10))\n",
    "print(f\"\\nMean songs per genre: {original_data['genre'].value_counts().mean()}\")\n",
    "print(f\"Median songs per genre: {original_data['genre'].value_counts().median()}\")\n",
    "print(f\"Genre with least songs: {original_data['genre'].value_counts().idxmin()}: {original_data['genre'].value_counts().min()}\")"
   ]
  },
  {
   "cell_type": "markdown",
   "metadata": {},
   "source": [
    "#### Genres / Popularity"
   ]
  },
  {
   "cell_type": "code",
   "execution_count": null,
   "metadata": {},
   "outputs": [],
   "source": [
    "import matplotlib.pyplot as plt\n",
    "\n",
    "genre_mean = data_copy.groupby('genre')['popularity'].mean().reset_index()\n",
    "genre_median = data_copy.groupby('genre')['popularity'].median().reset_index()\n",
    "\n",
    "genre_mean.rename(columns={'popularity': 'genre_mean_popularity'}, inplace=True)\n",
    "genre_median.rename(columns={'popularity': 'genre_median_popularity'}, inplace=True)\n",
    "\n",
    "data_copy = data_copy.merge(genre_mean, on='genre', how='left')\n",
    "data_copy = data_copy.merge(genre_median, on='genre', how='left')\n",
    "\n",
    "top_10_genres_mean = genre_mean.nlargest(10, 'genre_mean_popularity')\n",
    "plt.figure(figsize=(12, 6))\n",
    "plt.subplot(1, 2, 1)\n",
    "plt.bar(top_10_genres_mean['genre'], top_10_genres_mean['genre_mean_popularity'])\n",
    "plt.xlabel('Genres')\n",
    "plt.ylabel('Mean Popularity')\n",
    "plt.title('Top 10 Genres by Mean Popularity')\n",
    "plt.xticks(rotation=45)\n",
    "\n",
    "last_10_genres_mean = genre_mean.nsmallest(10, 'genre_mean_popularity')\n",
    "plt.subplot(1, 2, 2)\n",
    "plt.bar(last_10_genres_mean['genre'], last_10_genres_mean['genre_mean_popularity'])\n",
    "plt.xlabel('Genres')\n",
    "plt.ylabel('Mean Popularity')\n",
    "plt.title('Last 10 Genres by Mean Popularity')\n",
    "plt.xticks(rotation=45)\n",
    "plt.gca().invert_xaxis()\n",
    "plt.tight_layout()\n",
    "plt.show()\n",
    "\n",
    "top_10_genres_median = genre_median.nlargest(10, 'genre_median_popularity')\n",
    "plt.figure(figsize=(12, 6))\n",
    "plt.subplot(1, 2, 1)\n",
    "plt.bar(top_10_genres_median['genre'], top_10_genres_median['genre_median_popularity'])\n",
    "plt.xlabel('Genres')\n",
    "plt.ylabel('Median Popularity')\n",
    "plt.title('Top 10 Genres by Median Popularity')\n",
    "plt.xticks(rotation=45)\n",
    "\n",
    "last_10_genres_median = genre_median.nsmallest(10, 'genre_median_popularity')\n",
    "plt.subplot(1, 2, 2)\n",
    "plt.bar(last_10_genres_mean['genre'], last_10_genres_median['genre_median_popularity'])\n",
    "plt.xlabel('Genres')\n",
    "plt.ylabel('Median Popularity')\n",
    "plt.title('Last 10 Genres by Median Popularity')\n",
    "plt.xticks(rotation=45)\n",
    "plt.gca().invert_xaxis()\n",
    "\n",
    "plt.tight_layout()\n",
    "plt.show()"
   ]
  },
  {
   "cell_type": "markdown",
   "metadata": {},
   "source": [
    "### Genre over time"
   ]
  },
  {
   "cell_type": "code",
   "execution_count": null,
   "metadata": {},
   "outputs": [],
   "source": [
    "import plotly.express as px\n",
    "\n",
    "genre_year_counts = original_data.groupby(['year', 'genre'])['track_id'].count().reset_index()\n",
    "fig = px.line(genre_year_counts, x='year', y='track_id', color='genre', title='Number of Tracks for Each Genre per Year')\n",
    "fig.show()"
   ]
  },
  {
   "cell_type": "markdown",
   "metadata": {},
   "source": [
    "## Music Features"
   ]
  },
  {
   "cell_type": "code",
   "execution_count": null,
   "metadata": {},
   "outputs": [],
   "source": [
    "import matplotlib.pyplot as plt\n",
    "import seaborn as sns\n",
    "\n",
    "numeric_columns = original_data[['acousticness', 'danceability', 'energy', 'instrumentalness', 'liveness', 'loudness', 'speechiness', 'tempo', 'valence', \"popularity\", \"key\", \"time_signature\"]]\n",
    "\n",
    "fig, axes = plt.subplots(6, 2, figsize=(15,25))\n",
    "\n",
    "\n",
    "for i, column in enumerate(numeric_columns.columns):\n",
    "    sns.histplot(original_data[column], bins=20, color='skyblue', edgecolor='black', ax=axes[i//2, i%2])\n",
    "    axes[i//2, i%2].set_title(column)\n",
    "    axes[i//2, i%2].set_xlabel('Value')\n",
    "    axes[i//2, i%2].set_ylabel('Frequency')\n",
    "\n",
    "plt.tight_layout()\n",
    "plt.show()"
   ]
  },
  {
   "cell_type": "markdown",
   "metadata": {},
   "source": [
    "### Distribution of Song Duration"
   ]
  },
  {
   "cell_type": "code",
   "execution_count": null,
   "metadata": {},
   "outputs": [],
   "source": [
    "import matplotlib.pyplot as plt\n",
    "\n",
    "new_plot_data = original_data.copy()\n",
    "new_plot_data['minutes'] = new_plot_data['duration_ms'] / 60000\n",
    "\n",
    "fig, axes = plt.subplots(1, 2, figsize=(12, 6))\n",
    "\n",
    "axes[0].hist(new_plot_data['minutes'], bins=200, color='skyblue', edgecolor='black')\n",
    "axes[0].set_title('Song Duration')\n",
    "axes[0].set_xlabel('Duration (minutes)')\n",
    "axes[0].set_xlim(0, 15)\n",
    "\n",
    "axes[1].boxplot(new_plot_data['minutes'])\n",
    "axes[1].set_title('Song Duration')\n",
    "axes[1].set_ylabel('Duration (minutes)')\n",
    "\n",
    "plt.tight_layout()\n",
    "plt.show()"
   ]
  },
  {
   "cell_type": "markdown",
   "metadata": {},
   "source": [
    "### Distribution of Mode (Minor or Major)"
   ]
  },
  {
   "cell_type": "code",
   "execution_count": null,
   "metadata": {},
   "outputs": [],
   "source": [
    "import matplotlib.pyplot as plt\n",
    "\n",
    "mode_counts = data_copy['mode'].value_counts()\n",
    "\n",
    "plt.bar(mode_counts.index, mode_counts.values)\n",
    "plt.xlabel('Mode')\n",
    "plt.ylabel('Count')\n",
    "plt.title('Distribution of Mode')\n",
    "\n",
    "plt.xticks([0, 1], ['Minor (0)', 'Major (1)'])\n",
    "plt.show()"
   ]
  },
  {
   "cell_type": "markdown",
   "metadata": {},
   "source": [
    "## Features over time"
   ]
  },
  {
   "cell_type": "code",
   "execution_count": null,
   "metadata": {},
   "outputs": [],
   "source": [
    "import matplotlib.pyplot as plt\n",
    "import seaborn as sns\n",
    "\n",
    "new_plot_data = original_data.copy()\n",
    "new_plot_data['duration (min)'] = new_plot_data['duration_ms'] / 60000\n",
    "new_plot_data['number_of_tracks'] = new_plot_data.groupby('year')['year'].transform('count')\n",
    "\n",
    "feature_columns = ['acousticness', 'danceability', 'energy', 'instrumentalness', \n",
    "                   'liveness', 'loudness', 'speechiness', 'tempo', 'valence', \n",
    "                   'popularity', 'duration (min)', 'number_of_tracks']\n",
    "\n",
    "numeric_columns = new_plot_data[feature_columns + ['year']]\n",
    "yearly_means = numeric_columns.groupby(\"year\").mean().reset_index()\n",
    "\n",
    "filtered_data = yearly_means[yearly_means['year'] > 1920]\n",
    "\n",
    "fig, axes = plt.subplots(3, 4, figsize=(24, 16))\n",
    "\n",
    "for i, column in enumerate(feature_columns):\n",
    "    sns.lineplot(x='year', y=column, data=filtered_data, ax=axes[i//4, i%4], marker='o')\n",
    "    axes[i//4, i%4].set_title(column)\n",
    "    axes[i//4, i%4].set_xlabel('Year')\n",
    "    axes[i//4, i%4].set_ylabel('Mean Value')\n",
    "\n",
    "plt.tight_layout()\n",
    "plt.show()"
   ]
  },
  {
   "cell_type": "markdown",
   "metadata": {},
   "source": [
    "### Outlier in Features"
   ]
  },
  {
   "cell_type": "code",
   "execution_count": null,
   "metadata": {},
   "outputs": [],
   "source": [
    "import matplotlib.pyplot as plt\n",
    "\n",
    "numeric_columns = original_data[['danceability', 'energy', 'speechiness', 'acousticness', 'instrumentalness', 'liveness', 'valence', 'popularity', \"tempo\", \"loudness\"]]\n",
    "\n",
    "fig, axes = plt.subplots(2, 5, figsize=(16, 8))\n",
    "axes = axes.flatten()\n",
    "\n",
    "for i, column in enumerate(numeric_columns.columns):\n",
    "    axes[i].boxplot(numeric_columns[column])\n",
    "    axes[i].set_title(column)\n",
    "    axes[i].set_ylabel('Value')\n",
    "\n",
    "plt.tight_layout()\n",
    "\n",
    "outliers = []\n",
    "for column in numeric_columns.columns:\n",
    "    q1 = numeric_columns[column].quantile(0.25)\n",
    "    q3 = numeric_columns[column].quantile(0.75)\n",
    "    iqr = q3 - q1\n",
    "    lower_bound = q1 - 1.5 * iqr\n",
    "    upper_bound = q3 + 1.5 * iqr\n",
    "    num_outliers = len(numeric_columns[(numeric_columns[column] < lower_bound) | (numeric_columns[column] > upper_bound)])\n",
    "    outliers.append((column, num_outliers))\n",
    "\n",
    "# Print the number of outliers for each column\n",
    "for column, num_outliers in outliers:\n",
    "    print(f\"Number of outliers in {column}: {num_outliers}\")\n",
    "plt.show()"
   ]
  },
  {
   "cell_type": "markdown",
   "metadata": {},
   "source": [
    "## Genres against Features"
   ]
  },
  {
   "cell_type": "markdown",
   "metadata": {},
   "source": [
    "### Valence, Energy, Danceability"
   ]
  },
  {
   "cell_type": "code",
   "execution_count": null,
   "metadata": {},
   "outputs": [],
   "source": [
    "import plotly.graph_objs as go\n",
    "\n",
    "temp_df = original_data[['genre', 'danceability', 'energy', 'valence']]\n",
    "\n",
    "average_data = temp_df.groupby('genre').mean().reset_index()\n",
    "\n",
    "trace = go.Scatter3d(\n",
    "    x=average_data['danceability'],\n",
    "    y=average_data['energy'],\n",
    "    z=average_data['valence'],\n",
    "    mode='markers',\n",
    "    marker=dict(\n",
    "        size=5,\n",
    "        color=average_data['genre'].astype('category').cat.codes,\n",
    "        colorscale='Viridis',\n",
    "        opacity=0.8\n",
    "    ),\n",
    "    text=average_data['genre']\n",
    ")\n",
    "\n",
    "layout = go.Layout(\n",
    "    title='3D Scatter Plot of Track Genres (Average)',\n",
    "    scene=dict(\n",
    "        xaxis=dict(title='Average Danceability'),\n",
    "        yaxis=dict(title='Average Energy'),\n",
    "        zaxis=dict(title='Average Valence')\n",
    "    )\n",
    ")\n",
    "\n",
    "fig = go.Figure(data=[trace], layout=layout)\n",
    "\n",
    "fig.update_layout(\n",
    "    width=1200,\n",
    "    height=1200,\n",
    "    scene=dict(\n",
    "        aspectmode='cube'\n",
    "    )\n",
    ")\n",
    "\n",
    "fig.update_traces(marker=dict(color=average_data['danceability'], \n",
    "                              colorscale='Viridis', \n",
    "                              cmin=average_data['danceability'].min(), \n",
    "                              cmax=average_data['danceability'].max()),\n",
    "                  selector=dict(mode='markers'))\n",
    "\n",
    "fig.update_traces(hovertemplate='<b>Genre:</b> %{text}<br>'\n",
    "                                '<b>Average Danceability:</b> %{x}<br>'\n",
    "                                '<b>Average Energy:</b> %{y}<br>'\n",
    "                                '<b>Average Valence:</b> %{z}<br>',\n",
    "                    selector=dict(type='scatter3d'))\n",
    "\n",
    "fig.show()"
   ]
  },
  {
   "cell_type": "markdown",
   "metadata": {},
   "source": [
    "### Speechiness, Tempo, Loudness"
   ]
  },
  {
   "cell_type": "code",
   "execution_count": null,
   "metadata": {},
   "outputs": [],
   "source": [
    "import plotly.graph_objs as go\n",
    "\n",
    "temp_df = original_data[['genre', 'speechiness', 'tempo', 'loudness']]\n",
    "\n",
    "temp_df = temp_df[temp_df['genre'] != \"comedy\"]\n",
    "\n",
    "average_data = temp_df.groupby('genre').mean().reset_index()\n",
    "\n",
    "trace = go.Scatter3d(\n",
    "    x=average_data['speechiness'],\n",
    "    y=average_data['tempo'],\n",
    "    z=average_data['loudness'],\n",
    "    mode='markers',\n",
    "    marker=dict(\n",
    "        size=5,\n",
    "        color=average_data['genre'].astype('category').cat.codes,\n",
    "        colorscale='Viridis',\n",
    "        opacity=0.8\n",
    "    ),\n",
    "    text=average_data['genre']\n",
    ")\n",
    "\n",
    "layout = go.Layout(\n",
    "    title='3D Scatter Plot of Track Genres (Average)',\n",
    "    scene=dict(\n",
    "        xaxis=dict(title='Average Speechiness'),\n",
    "        yaxis=dict(title='Average Tempo'),\n",
    "        zaxis=dict(title='Average Loudness')\n",
    "    )\n",
    ")\n",
    "\n",
    "fig = go.Figure(data=[trace], layout=layout)\n",
    "\n",
    "fig.update_layout(\n",
    "    width=1200,\n",
    "    height=1200,\n",
    "    scene=dict(\n",
    "        aspectmode='cube'\n",
    "    )\n",
    ")\n",
    "\n",
    "fig.update_traces(marker=dict(color=average_data['tempo'], \n",
    "                              colorscale='Viridis', \n",
    "                              cmin=average_data['tempo'].min(), \n",
    "                              cmax=average_data['tempo'].max()),\n",
    "                  selector=dict(mode='markers'))\n",
    "\n",
    "fig.update_traces(hovertemplate='<b>Genre:</b> %{text}<br>'\n",
    "                                '<b>Average Speechiness:</b> %{x}<br>'\n",
    "                                '<b>Average Tempo:</b> %{y}<br>'\n",
    "                                '<b>Average Loudness:</b> %{z}<br>',\n",
    "                    selector=dict(type='scatter3d'))\n",
    "\n",
    "fig.show()"
   ]
  },
  {
   "cell_type": "markdown",
   "metadata": {},
   "source": [
    "### Dendogram on Features per Genre"
   ]
  },
  {
   "cell_type": "code",
   "execution_count": null,
   "metadata": {},
   "outputs": [],
   "source": [
    "import plotly.figure_factory as ff\n",
    "\n",
    "average_data = original_data.groupby('genre')[['danceability', 'energy', 'speechiness', 'acousticness', 'instrumentalness', 'liveness', 'valence', \"tempo\", \"loudness\"]].mean().reset_index()\n",
    "track_genres = average_data['genre'].tolist()\n",
    "\n",
    "distances = average_data.drop(columns=[\"genre\"]).values\n",
    "\n",
    "fig = ff.create_dendrogram(distances, labels=track_genres)\n",
    "fig.update_layout(\n",
    "    title='Dendrogram of Track Genres',\n",
    "    xaxis=dict(title='Track Genres'),\n",
    "    yaxis=dict(title='Distance'),\n",
    "    width=1400,\n",
    "    height=1000\n",
    ")\n",
    "\n",
    "fig.show()"
   ]
  },
  {
   "cell_type": "markdown",
   "metadata": {},
   "source": [
    "## Correlation between Song Metrics"
   ]
  },
  {
   "cell_type": "code",
   "execution_count": null,
   "metadata": {},
   "outputs": [],
   "source": [
    "import matplotlib.pyplot as plt\n",
    "import seaborn as sns\n",
    "\n",
    "numeric_values_df = original_data[['acousticness', 'danceability', 'energy', 'instrumentalness', 'liveness', 'loudness', 'speechiness', 'tempo', 'valence']]\n",
    "\n",
    "plt.figure(figsize=(12, 10))\n",
    "sns.heatmap(numeric_values_df.corr(), annot=True, cmap=\"coolwarm\")\n",
    "plt.show()"
   ]
  }
 ],
 "metadata": {
  "kernelspec": {
   "display_name": ".venv",
   "language": "python",
   "name": "python3"
  },
  "language_info": {
   "codemirror_mode": {
    "name": "ipython",
    "version": 3
   },
   "file_extension": ".py",
   "mimetype": "text/x-python",
   "name": "python",
   "nbconvert_exporter": "python",
   "pygments_lexer": "ipython3",
   "version": "3.10.12"
  }
 },
 "nbformat": 4,
 "nbformat_minor": 2
}
